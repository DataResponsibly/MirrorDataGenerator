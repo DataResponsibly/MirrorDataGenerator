{
 "cells": [
  {
   "cell_type": "markdown",
   "metadata": {},
   "source": [
    "## Mirror Data Generator\n",
    "- mirrorGen is an open source tool to generate synthetic data based on a correlation DAG, which describes the relation among the columns in the data. It can be used to produce \"dirty\" data, mirroring various bias in real life, which can be used in applications, such as classification and ranking tasks [[1]](https://arxiv.org/abs/2006.08688).\n",
    "\n",
    "## Demo the usage of mirrorGen to generate data that is described by the DAG below.\n",
    "- It simulate a dataset with 6 columns: \n",
    "    - G with values of 'M' and 'F'.\n",
    "    - age with values in [20, 70].\n",
    "    - job with values of 'E' and 'F'.\n",
    "    - X1 with values in [-2, 2].\n",
    "    - X2 with values from a Gaussian distribution G(0,1).\n",
    "    - D with values of 'Y' and 'N'.\n",
    "- The correlation among above columns are:\n",
    "    - G affects age, job, and X1.\n",
    "    - D is equally determined by age, job, X1, and X2 through the same weights for all the edges."
   ]
  },
  {
   "cell_type": "markdown",
   "metadata": {},
   "source": [
    "![DAG](dag_hiring.png \"DAG\") "
   ]
  },
  {
   "cell_type": "code",
   "execution_count": 5,
   "metadata": {},
   "outputs": [],
   "source": [
    "from mirror.nodes import *\n",
    "from mirror.edges import *\n",
    "from mirror.generator import Mirror\n",
    "from mirror import erasers\n",
    "import pandas as pd"
   ]
  },
  {
   "cell_type": "markdown",
   "metadata": {},
   "source": [
    "### 1. Define the DAG and generate data"
   ]
  },
  {
   "cell_type": "code",
   "execution_count": 2,
   "metadata": {},
   "outputs": [
    {
     "name": "stdout",
     "output_type": "stream",
     "text": [
      "G independet ['G']\n",
      "----------------------------------------\n",
      "\n",
      "age with parents\n",
      "One parent <mirror.edges.CtoN object at 0x121830c70> ['G', 'age']\n",
      "----------------------------------------\n",
      "\n",
      "job with parents\n",
      "One parent <mirror.edges.CtoC object at 0x121830c40> ['G', 'age', 'job']\n",
      "----------------------------------------\n",
      "\n",
      "X1 with parents\n",
      "One parent <mirror.edges.CtoN object at 0x121830cd0> ['G', 'age', 'job', 'X1']\n",
      "----------------------------------------\n",
      "\n",
      "X2 independet ['G', 'age', 'job', 'X1', 'X2']\n",
      "----------------------------------------\n",
      "\n",
      "D with parents\n",
      "New CPT {'1E00': {'N': 0.3, 'Y': 0.7}, '1F00': {'N': 0.35, 'Y': 0.65}, '1E01': {'N': 0.45, 'Y': 0.55}, '0F01': {'N': 0.55, 'Y': 0.45}, '1F01': {'N': 0.5, 'Y': 0.5}, '0F00': {'N': 0.39999999999999997, 'Y': 0.6000000000000001}, '0E00': {'N': 0.35, 'Y': 0.65}, '0E01': {'N': 0.5, 'Y': 0.5}, '1F10': {'N': 0.5, 'Y': 0.5}, '0F10': {'N': 0.55, 'Y': 0.45}, '0E11': {'N': 0.65, 'Y': 0.35}, '0E10': {'N': 0.5, 'Y': 0.5}, '0F11': {'N': 0.7, 'Y': 0.3}, '1E11': {'N': 0.6000000000000001, 'Y': 0.39999999999999997}, '1E10': {'N': 0.45, 'Y': 0.55}, '1F11': {'N': 0.65, 'Y': 0.35}} \n",
      "\n",
      "Child node is CAT ['G', 'age', 'job', 'X1', 'X2', 'group', 'C_X1', 'C_age', 'C_X2', 'D']\n",
      "----------------------------------------\n",
      "\n",
      "--> Generated data is saved to  out/hiring/R1.csv \n",
      "\n",
      "\n"
     ]
    }
   ],
   "source": [
    "# name of folder to save the synthetic data\n",
    "data_flag = \"hiring\"\n",
    "\n",
    "# size of the data\n",
    "total_n = 30000 \n",
    "\n",
    "# initialize nodes\n",
    "node_g = CategoricalNode(\"G\", {\"M\": 0.5, \"F\": 0.5}, sample_n=total_n)\n",
    "node_a = OrdinalGlobalNode(\"age\", min=20, max=70)\n",
    "node_r = CategoricalNode(\"job\", {\"E\", \"F\"})\n",
    "\n",
    "node_x1 = GaussianNode(\"X1\")\n",
    "node_x2 = GaussianNode(\"X2\", miu=0, var=1, sample_n=total_n)\n",
    "node_d = CategoricalNode(\"D\", {\"Y\", \"N\"}) # the value does not have meaning. Only the keys matter for the domain\n",
    "\n",
    "# initialize edges\n",
    "edge_g_a = CtoN(\"G\", \"age\", {\"M\": [\"Gaussian\", 30, 10], \"F\": [\"Gaussian\", 45, 10]})\n",
    "edge_g_r = CtoC(\"G\", \"job\", {\"M\": {\"E\": 0.6, \"F\": 0.4}, \"F\": {\"E\": 0.4, \"F\": 0.6}})\n",
    "edge_g_x1 = CtoN(\"G\", \"X1\", {\"M\": [\"Gaussian\", 1, 0.5], \"F\": [\"Gaussian\", 0, 1]})\n",
    "\n",
    "\n",
    "edge_a_d = NtoC(\"age\", \"D\", [50], [{\"Y\": 0.8, \"N\": 0.2}, {\"Y\": 0.2, \"N\": 0.8}])\n",
    "edge_r_d = CtoC(\"job\", \"D\", {\"E\": {\"Y\": 0.6, \"N\": 0.4}, \"F\": {\"Y\": 0.4, \"N\": 0.6}})\n",
    "\n",
    "edge_x1_d = NtoC(\"X1\", \"D\", [0.5], [{\"Y\": 0.4, \"N\": 0.6}, {\"Y\": 0.6, \"N\": 0.4}])\n",
    "edge_x2_d = NtoC(\"X2\", \"D\", [0.5], [{\"Y\": 0.8, \"N\": 0.2}, {\"Y\": 0.2, \"N\": 0.8}])\n",
    "\n",
    "# define DAG\n",
    "nodes = [node_g, node_a, node_r, node_x1, node_x2, node_d]\n",
    "edge_relation = {\"X1\": edge_g_x1,\n",
    "                 \"age\": edge_g_a,\n",
    "                 \"job\": edge_g_r,\n",
    "                 \"D\": ([edge_x1_d, edge_r_d, edge_a_d, edge_x2_d],[0.25, 0.25, 0.25, 0.25])}\n",
    "\n",
    "\n",
    "\n",
    "# generate data\n",
    "mirror = Mirror(seed=0)\n",
    "mirror.generate_csv(nodes, edge_relation)\n",
    "mirror.save_to_disc(\"out/\"+data_flag+\"/R1.csv\", excluded_cols=['C_X1', 'C_age', 'C_X2', 'group'])\n",
    "\n",
    "print()"
   ]
  },
  {
   "cell_type": "markdown",
   "metadata": {},
   "source": [
    "### 2. Simulate missing values in above generated data"
   ]
  },
  {
   "cell_type": "markdown",
   "metadata": {},
   "source": [
    "### 2.1 Missing completely random"
   ]
  },
  {
   "cell_type": "code",
   "execution_count": 7,
   "metadata": {},
   "outputs": [],
   "source": [
    "# define the missing patterns \n",
    "missing ='mcar'\n",
    "# columns to inject missing values\n",
    "applied_cols = ['job', 'X1']\n",
    "# fraction of inject missing values\n",
    "fraction = 0.2 \n",
    "# encoding of the missing values\n",
    "missing_values = {x:'?' for x in applied_cols}\n",
    "# random seed to use\n",
    "seed = 0\n",
    "\n",
    "# initialize the eraser\n",
    "perturbation = erasers.MCAR_eraser(applied_cols, fraction, missing_values, seed)\n",
    "# read the data to inject the missings\n",
    "data = pd.read_csv('out/hiring/R1.csv')\n",
    "missing_data = perturbation.transform(data)\n",
    "missing_data.to_csv('out/hiring/R1_'+missing+'.csv')"
   ]
  },
  {
   "cell_type": "markdown",
   "metadata": {},
   "source": [
    "### 2.2 Missing not at random but depend on some other columns"
   ]
  },
  {
   "cell_type": "code",
   "execution_count": 10,
   "metadata": {},
   "outputs": [],
   "source": [
    "missing = 'mar'\n",
    "applied_cols = ['job', 'X1']\n",
    "fraction = 0.2 \n",
    "missing_values = {x:'?' for x in applied_cols}\n",
    "seed = 0\n",
    "# specify the columns on which the missing values are depend, e.g., both job and X1 depend on G\n",
    "depends_on_cols = ['G', 'G']\n",
    "# specify the order of the dependent column\n",
    "# if categorical column the order is specified by the value of each category, e.g., {'G': {'M': 1, 'F': 0}} means sorting based on G and the order of 'M' and 'F'.\n",
    "# if numerical column, then the order is specified by a weight of the column, e.g., {'X1': -1} means sorting in the reversed order of X1.\n",
    "depends_on_cols_orders = {'G': {'M': 1, 'F': 0}}\n",
    "\n",
    "perturbation = erasers.MAR_eraser(applied_cols, fraction, missing_values, depends_on_cols, depends_on_cols_orders, seed)\n",
    "\n",
    "data = pd.read_csv('out/hiring/R1.csv')\n",
    "missing_data = perturbation.transform(data)\n",
    "missing_data.to_csv('out/hiring/R1_'+missing+'.csv')"
   ]
  },
  {
   "cell_type": "markdown",
   "metadata": {},
   "source": [
    "### 2.3 Missing not at random but depend on the columns themself"
   ]
  },
  {
   "cell_type": "code",
   "execution_count": 11,
   "metadata": {},
   "outputs": [],
   "source": [
    "missing = 'nmar'\n",
    "applied_cols = ['job', 'X1']\n",
    "fraction = 0.2 \n",
    "missing_values = {x:'?' for x in applied_cols}\n",
    "seed = 0\n",
    "# specify the order of the columns to be injected with missing values \n",
    "# if categorical column the order is specified by the value of each category, e.g., {'job': {'F': 1, 'E': 0}} means sorting based on G and the order of 'M' and 'F'.\n",
    "# if numerical column, then the order is specified by a weight of the column, e.g., {'X1': -1} means sorting in the reversed order of X1.\n",
    "missings_cols_orders = {'job': {'F': 1, 'E': 0}, 'X1': -1} # order first by F and E and then by the reversed order of X1\n",
    "perturbation = erasers.NMAR_eraser(applied_cols, fraction, missing_values, missings_cols_orders, seed)\n",
    "\n",
    "data = pd.read_csv('out/hiring/R1.csv')\n",
    "missing_data = perturbation.transform(data)\n",
    "missing_data.to_csv('out/hiring/R1_'+missing+'.csv')"
   ]
  },
  {
   "cell_type": "code",
   "execution_count": null,
   "metadata": {},
   "outputs": [],
   "source": []
  }
 ],
 "metadata": {
  "kernelspec": {
   "display_name": "Python 3",
   "language": "python",
   "name": "python3"
  },
  "language_info": {
   "codemirror_mode": {
    "name": "ipython",
    "version": 3
   },
   "file_extension": ".py",
   "mimetype": "text/x-python",
   "name": "python",
   "nbconvert_exporter": "python",
   "pygments_lexer": "ipython3",
   "version": "3.8.2"
  }
 },
 "nbformat": 4,
 "nbformat_minor": 4
}
