{
 "cells": [
  {
   "cell_type": "markdown",
   "metadata": {},
   "source": [
    "## Mirror Data Generator\n",
    "- mirrorGen is an open source tool to generate synthetic data based on a correlation DAG, which describes the relation among the columns in the data. It can be used to produce \"dirty\" data, mirroring various bias in real life, which can be used in applications, such as classification and ranking tasks [[1]](https://arxiv.org/abs/2006.08688).\n",
    "\n",
    "## Demo the usage of mirrorGen to generate data that is described by the DAG below.\n",
    "- It simulate a dataset with 6 columns: \n",
    "    - G with values of 'M' and 'F' and each value has a probability of 0.5 to appear, i.e., 50% is M and 50% is F. \n",
    "    - U with values from a Pareto distribution with P(2.0, 1.0) for shape and scale respectively.\n",
    "- The correlation among above columns are:\n",
    "    - X is determined by G and U with weights of 0.2 and 0.8 respectively.\n",
    "    - Y is determined by G and X with weights of 0.4 and 0.6 respectively."
   ]
  },
  {
   "cell_type": "code",
   "execution_count": 1,
   "metadata": {},
   "outputs": [
    {
     "data": {
      "image/png": "[encoded data removed]",
      "text/plain": [
       "<IPython.core.display.Image object>"
      ]
     },
     "execution_count": 1,
     "metadata": {
      "image/png": {
       "height": 150,
       "width": 200
      }
     },
     "output_type": "execute_result"
    }
   ],
   "source": [
    "from IPython import display\n",
    "display.Image('dag_pareto.png', width = 200, height = 150)"
   ]
  },
  {
   "cell_type": "code",
   "execution_count": 2,
   "metadata": {},
   "outputs": [],
   "source": [
    "from mirror.nodes import *\n",
    "from mirror.edges import *\n",
    "from mirror.generator import Mirror\n",
    "import pandas as pd"
   ]
  },
  {
   "cell_type": "markdown",
   "metadata": {},
   "source": [
    "### 1. Define the DAG and generate data"
   ]
  },
  {
   "cell_type": "code",
   "execution_count": 4,
   "metadata": {},
   "outputs": [
    {
     "name": "stdout",
     "output_type": "stream",
     "text": [
      "G independet ['G']\n",
      "----------------------------------------\n",
      "\n",
      "U independet ['G', 'U']\n",
      "----------------------------------------\n",
      "\n",
      "X with parents\n",
      "----------------------------------------\n",
      "\n",
      "Y with parents\n",
      "----------------------------------------\n",
      "\n",
      "--> Generated data is saved to  out/pareto/R1.csv \n",
      "\n",
      "\n"
     ]
    }
   ],
   "source": [
    "# name of folder to save the synthetic data\n",
    "data_flag = \"pareto\"\n",
    "\n",
    "# size of the data\n",
    "total_n = 2000 \n",
    "\n",
    "# initialize nodes\n",
    "node_g = CategoricalNode(\"G\", {\"M\": 0.5, \"F\": 0.5}, sample_n=total_n)\n",
    "\n",
    "node_u = ParetoNode(\"U\", sample_n=total_n, shape=2.0, scale=1.0) # an unobserved pareto node\n",
    "node_x = ParetoNode(\"X\")\n",
    "node_y = ParetoNode(\"Y\")\n",
    "\n",
    "edge_g_x = CtoN(\"G\", \"X\", {\"M\": [\"Pareto\", 3.0, 1.0], \"F\": [\"Pareto\", 1.0, 1.0]})\n",
    "edge_g_y = CtoN(\"G\", \"Y\", {\"M\": [\"Pareto\", 3.0, 1.0], \"F\": [\"Pareto\", 2.0, 1.0]})\n",
    "\n",
    "edge_u_x = NtoNLinear(\"U\", \"X\")\n",
    "edge_x_y = NtoNLinear(\"X\", \"Y\")\n",
    "\n",
    "# define DAG\n",
    "nodes = [node_g, node_u, node_x, node_y]\n",
    "edge_relations = {\"X\": ([edge_g_x, edge_u_x], [0.2, 0.8]),\n",
    "                  \"Y\": ([edge_g_y, edge_x_y], [0.4, 0.6])}\n",
    "\n",
    "\n",
    "# generate data\n",
    "mirror = Mirror(seed=0)\n",
    "mirror.generate_csv(nodes, edge_relations)\n",
    "mirror.save_to_disc(\"out/\"+data_flag+\"/R1.csv\")\n",
    "\n",
    "print()"
   ]
  },
  {
   "cell_type": "code",
   "execution_count": null,
   "metadata": {},
   "outputs": [],
   "source": []
  }
 ],
 "metadata": {
  "kernelspec": {
   "display_name": "Python 3",
   "language": "python",
   "name": "python3"
  },
  "language_info": {
   "codemirror_mode": {
    "name": "ipython",
    "version": 3
   },
   "file_extension": ".py",
   "mimetype": "text/x-python",
   "name": "python",
   "nbconvert_exporter": "python",
   "pygments_lexer": "ipython3",
   "version": "3.7.9"
  }
 },
 "nbformat": 4,
 "nbformat_minor": 4
}
